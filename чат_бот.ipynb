{
  "nbformat": 4,
  "nbformat_minor": 0,
  "metadata": {
    "colab": {
      "provenance": [],
      "authorship_tag": "ABX9TyM9LXyGAQvmLbW7hEt3+o+C",
      "include_colab_link": true
    },
    "kernelspec": {
      "name": "python3",
      "display_name": "Python 3"
    },
    "language_info": {
      "name": "python"
    }
  },
  "cells": [
    {
      "cell_type": "markdown",
      "metadata": {
        "id": "view-in-github",
        "colab_type": "text"
      },
      "source": [
        "<a href=\"https://colab.research.google.com/github/Darisha-3041/chatbot/blob/main/%D1%87%D0%B0%D1%82_%D0%B1%D0%BE%D1%82.ipynb\" target=\"_parent\"><img src=\"https://colab.research.google.com/assets/colab-badge.svg\" alt=\"Open In Colab\"/></a>"
      ]
    },
    {
      "cell_type": "code",
      "source": [
        "!pip install python-telegram-bot"
      ],
      "metadata": {
        "colab": {
          "base_uri": "https://localhost:8080/"
        },
        "collapsed": true,
        "id": "-tCFB-tNk9CD",
        "outputId": "2906edec-3d77-41a7-b36a-1c4aee83fb8a"
      },
      "execution_count": 16,
      "outputs": [
        {
          "output_type": "stream",
          "name": "stdout",
          "text": [
            "Requirement already satisfied: python-telegram-bot in /usr/local/lib/python3.11/dist-packages (22.2)\n",
            "Requirement already satisfied: httpx<0.29,>=0.27 in /usr/local/lib/python3.11/dist-packages (from python-telegram-bot) (0.28.1)\n",
            "Requirement already satisfied: anyio in /usr/local/lib/python3.11/dist-packages (from httpx<0.29,>=0.27->python-telegram-bot) (4.9.0)\n",
            "Requirement already satisfied: certifi in /usr/local/lib/python3.11/dist-packages (from httpx<0.29,>=0.27->python-telegram-bot) (2025.6.15)\n",
            "Requirement already satisfied: httpcore==1.* in /usr/local/lib/python3.11/dist-packages (from httpx<0.29,>=0.27->python-telegram-bot) (1.0.9)\n",
            "Requirement already satisfied: idna in /usr/local/lib/python3.11/dist-packages (from httpx<0.29,>=0.27->python-telegram-bot) (3.10)\n",
            "Requirement already satisfied: h11>=0.16 in /usr/local/lib/python3.11/dist-packages (from httpcore==1.*->httpx<0.29,>=0.27->python-telegram-bot) (0.16.0)\n",
            "Requirement already satisfied: sniffio>=1.1 in /usr/local/lib/python3.11/dist-packages (from anyio->httpx<0.29,>=0.27->python-telegram-bot) (1.3.1)\n",
            "Requirement already satisfied: typing_extensions>=4.5 in /usr/local/lib/python3.11/dist-packages (from anyio->httpx<0.29,>=0.27->python-telegram-bot) (4.14.0)\n"
          ]
        },
        {
          "output_type": "stream",
          "name": "stderr",
          "text": [
            "/usr/lib/python3.11/pathlib.py:540: RuntimeWarning: coroutine 'Application.shutdown' was never awaited\n",
            "  return self._str\n",
            "RuntimeWarning: Enable tracemalloc to get the object allocation traceback\n",
            "/usr/lib/python3.11/pathlib.py:540: RuntimeWarning: coroutine 'Application._bootstrap_initialize' was never awaited\n",
            "  return self._str\n",
            "RuntimeWarning: Enable tracemalloc to get the object allocation traceback\n"
          ]
        }
      ]
    },
    {
      "cell_type": "code",
      "source": [
        "import logging\n",
        "from telegram import Update\n",
        "from telegram.ext import (\n",
        "    Application,\n",
        "    CommandHandler,\n",
        "    MessageHandler,\n",
        "    filters,\n",
        "    CallbackContext,\n",
        ")\n",
        "import random\n",
        "import time\n",
        "import schedule\n",
        "import threading\n",
        "\n",
        "TOKEN = '8107143805:AAFT_G-cqovA3YLuJ3XRwm3TKyo59K5KR6Q'\n",
        "\n",
        "logging.basicConfig(format='%(asctime)s - %(name)s - %(levelname)s - %(message)s',\n",
        "                     level=logging.INFO)\n",
        "logger = logging.getLogger(__name__)\n",
        "\n",
        "def start(update: Update, context: CallbackContext):\n",
        "    user = update.effective_user.first_name\n",
        "    welcome_message = f\"Приветствуем вас, {user}, в мире здорового образа жизни!\\n\\n\"\n",
        "    welcome_message += \"FitLifeBot создан специально для тех, кто хочет заботиться о своем теле и самочувствии. Мы поможем вам правильно питаться, заниматься спортом и улучшать качество вашей жизни.\\n\"\n",
        "    welcome_message += \"\\nДавайте начнем прямо сейчас!\"\n",
        "    context.bot.send_message(chat_id=update.effective_chat.id, text=welcome_message)\n",
        "\n",
        "def motivation(update: Update, context: CallbackContext):\n",
        "    motivations = [\"Каждый день — новый шанс стать лучшей версией себя!\",\n",
        "                   \"Нет невозможных целей, есть лишь недостаточно сильное желание достичь их.\"]\n",
        "    message = f\"Сегодняшняя мотивация:\\n*{random.choice(motivations)}*\\n\\nПродолжайте двигаться вперёд небольшими шагами, и вскоре вы заметите значительные перемены в своей жизни!\"\n",
        "    context.bot.send_message(chat_id=update.effective_chat.id, text=message, parse_mode=\"MarkdownV2\")\n",
        "\n",
        "def recipes(update: Update, context: CallbackContext):\n",
        "    message = \"Хотите научиться готовить вкусно и полезно?\\n\\nНаш канал собрал лучшие проверенные рецепты для тех, кто заботится о фигуре и здоровье. Попробуйте приготовить одно из наших фирменных блюд уже сегодня!\\n\\nПосмотреть рецепты → *[edimdoma.ru](https://edimdoma.ru)* 📖🥗\"\n",
        "    context.bot.send_message(chat_id=update.effective_chat.id, text=message, disable_web_page_preview=True, parse_mode=\"MarkdownV2\")\n",
        "\n",
        "def trainings(update: Update, context: CallbackContext):\n",
        "    message = \"Поддерживать тело в форме легко и приятно!\\n\\nМы предлагаем эффективные тренировки для любого уровня физической подготовки. Вы можете заниматься дома или в зале, выбрав подходящий комплекс упражнений.\\n\\nПопробуйте одну из наших популярных тренировок: [Видео тренировки от Александра Невского](https://www.youtube.com/watch?v=J-t8iI-ryvY)\"\n",
        "    context.bot.send_message(chat_id=update.effective_chat.id, text=message, parse_mode=\"MarkdownV2\")\n",
        "\n",
        "def health_tips(update: Update, context: CallbackContext):\n",
        "    tips = [\"Начните утро с стакана тёплой воды\",\n",
        "            \"Соблюдайте умеренность в потреблении сладкого\",\n",
        "            \"Регулярные прогулки укрепляют сердечно-сосудистую систему\"]\n",
        "    message = f\"Хорошее самочувствие начинается с маленьких шагов!\\n\\n*{random.choice(tips)}*\"\n",
        "    context.bot.send_message(chat_id=update.effective_chat.id, text=message, parse_mode=\"MarkdownV2\")\n",
        "\n",
        "def water_reminder(update: Update, context: CallbackContext):\n",
        "    context.job_queue.run_repeating(water_reminder_job, interval=60*60, first=10)\n",
        "    context.bot.send_message(chat_id=update.effective_chat.id, text=\"Напоминания активированы! 👍\")\n",
        "\n",
        "def water_reminder_job(context: CallbackContext):\n",
        "    chat_id = context.job.context\n",
        "    context.bot.send_message(chat_id=chat_id, text=\"Время выпить воды! 🛁\")\n",
        "\n",
        "def sleep_tracker(update: Update, context: CallbackContext):\n",
        "    hours_needed = random.randint(7, 9)\n",
        "    message = f\"Сон — основа восстановления и продуктивности!\\n\\nВашему организму необходимо примерно *{hours_needed}* часа сна для оптимального функционирования.\"\n",
        "    context.bot.send_message(chat_id=update.effective_chat.id, text=message, parse_mode=\"MarkdownV2\")\n",
        "\n",
        "def question_answer(update: Update, context: CallbackContext):\n",
        "    context.bot.send_message(chat_id=update.effective_chat.id, text=\"Задавайте любые интересующие вас вопросы о здоровье, правильном питании и занятиях спортом. Наши эксперты готовы поделиться ценными знаниями и советами.\\n\\nЗадайте ваш вопрос сейчас → */ask*\")\n",
        "\n",
        "def quote_day(update: Update, context: CallbackContext):\n",
        "    quotes = [\"Каждое маленькое усилие приближает нас к большой цели.\",\n",
        "              \"То, что кажется трудностью сегодня, завтра станет частью успеха.\"]\n",
        "    message = f\"Новая цитата дня:\\n*{random.choice(quotes)}*\"\n",
        "    context.bot.send_message(chat_id=update.effective_chat.id, text=message, parse_mode=\"MarkdownV2\")\n",
        "\n",
        "def community(update: Update, context: CallbackContext):\n",
        "    message = \"Присоединяйтесь к нашей дружной команде единомышленников, готовых делиться успехами и поддерживать друг друга на пути к здоровому образу жизни!\\n\\nТелеграм-группа FitLife Community: *t.me/FitLifeCommunityGroup*\"\n",
        "    context.bot.send_message(chat_id=update.effective_chat.id, text=message, parse_mode=\"MarkdownV2\")\n",
        "\n",
        "def run_bot():\n",
        "    app = Application.builder().token(TOKEN).build()\n",
        "\n",
        "    # Обработчики команд\n",
        "    app.add_handler(CommandHandler(\"start\", start))\n",
        "    app.add_handler(CommandHandler(\"motivation\", motivation))\n",
        "    app.add_handler(CommandHandler(\"recipes\", recipes))\n",
        "    app.add_handler(CommandHandler(\"trainings\", trainings))\n",
        "    app.add_handler(CommandHandler(\"health_tips\", health_tips))\n",
        "    app.add_handler(CommandHandler(\"water_reminder\", water_reminder))\n",
        "    app.add_handler(CommandHandler(\"sleep_tracker\", sleep_tracker))\n",
        "    app.add_handler(CommandHandler(\"question_answer\", question_answer))\n",
        "    app.add_handler(CommandHandler(\"quote_day\", quote_day))\n",
        "    app.add_handler(CommandHandler(\"community\", community))\n",
        "\n",
        "    app.run_polling()\n",
        "\n",
        "if __name__ == \"__main__\":\n",
        "    thread = threading.Thread(target=run_bot)\n",
        "    thread.start()"
      ],
      "metadata": {
        "id": "dzgUMxM3lEfB"
      },
      "execution_count": 17,
      "outputs": []
    }
  ]
}